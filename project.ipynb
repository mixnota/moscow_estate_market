{
 "cells": [
  {
   "cell_type": "code",
   "execution_count": 1,
   "metadata": {},
   "outputs": [
    {
     "data": {
      "text/plain": [
       "['brick',\n",
       " 'panel',\n",
       " 'stalin',\n",
       " 'monolith',\n",
       " 'wood',\n",
       " 'block',\n",
       " 'monolithBrick',\n",
       " 'old',\n",
       " 'None']"
      ]
     },
     "execution_count": 1,
     "metadata": {},
     "output_type": "execute_result"
    }
   ],
   "source": [
    "from sklearn.linear_model import LinearRegression\n",
    "from sklearn.metrics import mean_squared_error\n",
    "from sklearn.model_selection import train_test_split\n",
    "import pandas as pd\n",
    "import numpy as np\n",
    "\n",
    "\n",
    "dataset = pd.read_csv(\"moscow_dataset_2020.csv\")\n",
    "wallsMaterial = list(set(list(dataset['wallsMaterial'])))\n",
    "centre_coordinates = [55.821163, 37.364310]\n",
    "dist_to_centre = lambda x, y: (((x - 55.821163) / 360 * 23580) ** 2 + ((y - 37.364)/180*20000) ** 2) ** 0.5\n",
    "columns1 = list(dataset.columns)\n",
    "arr = [[] for _ in range(63945)]\n",
    "for i in range(63945):\n",
    "    for elem in columns1:\n",
    "        if elem == 'wallsMaterial':\n",
    "            arr[i].append(float(wallsMaterial.index(dataset[elem][i])))\n",
    "        else:\n",
    "            if elem == 'floorNumber':\n",
    "                arr[i].append(14*dataset[elem][i]-dataset[elem][i]*dataset[elem][i])\n",
    "            elif elem == 'latitude':\n",
    "                arr[i].append(dist_to_centre(dataset['latitude'][i], dataset['longitude'][i]))\n",
    "            else:\n",
    "                arr[i].append(dataset[elem][i])\n",
    "X = np.array([arr[i][:-2] for i in range(63945)])\n",
    "Y = np.array([float(elem) for elem in dataset['price']])\n",
    "\n",
    "wallsMaterial"
   ]
  },
  {
   "cell_type": "code",
   "execution_count": 8,
   "metadata": {},
   "outputs": [
    {
     "name": "stdout",
     "output_type": "stream",
     "text": [
      "(51156, 6)\n",
      "(12789, 6)\n",
      "(51156,)\n",
      "(12789,)\n"
     ]
    }
   ],
   "source": []
  },
  {
   "cell_type": "code",
   "execution_count": 9,
   "metadata": {},
   "outputs": [
    {
     "name": "stdout",
     "output_type": "stream",
     "text": [
      "The model performance for training set\n",
      "--------------------------------------\n",
      "RMSE is 11989859.075916497\n",
      "R2 score is 0.8445266919876575\n",
      "\n",
      "\n",
      "The model performance for testing set\n",
      "--------------------------------------\n",
      "RMSE is 14299373.51865088\n"
     ]
    },
    {
     "data": {
      "text/plain": [
       "array([15712553.73604574])"
      ]
     },
     "execution_count": 9,
     "metadata": {},
     "output_type": "execute_result"
    }
   ],
   "source": [
    "from sklearn.metrics import r2_score\n",
    "from sklearn.ensemble import GradientBoostingRegressor\n",
    "from sklearn.tree import DecisionTreeRegressor\n",
    "from sklearn.linear_model import ElasticNetCV\n",
    "import xgboost\n",
    "X_train, X_test, Y_train, Y_test = train_test_split(X, Y, test_size = 0.2, random_state=5)\n",
    "lin_model = GradientBoostingRegressor()\n",
    "lin_model.fit(X_train, Y_train)\n",
    "y_train_predict = lin_model.predict(X_train)\n",
    "rmse = (np.sqrt(mean_squared_error(Y_train, y_train_predict)))\n",
    "r2 = r2_score(Y_train, y_train_predict)\n",
    "\n",
    "print(\"The model performance for training set\")\n",
    "print(\"--------------------------------------\")\n",
    "print('RMSE is {}'.format(rmse))\n",
    "print('R2 score is {}'.format(r2))\n",
    "print(\"\\n\")\n",
    "\n",
    "# model evaluation for testing set\n",
    "y_test_predict = lin_model.predict(X_test)\n",
    "rmse = (np.sqrt(mean_squared_error(Y_test, y_test_predict)))\n",
    "r2 = r2_score(Y_test, y_test_predict)\n",
    "\n",
    "\n",
    "print(\"The model performance for testing set\")\n",
    "print(\"--------------------------------------\")\n",
    "print('RMSE is {}'.format(rmse))\n",
    "pavshino = [8.0, 13, 17, 70, 11, dist_to_centre(55.821163, 37.364310)]\n",
    "data_flat = np.array(pavshino)\n",
    "lin_model.predict(np.array([data_flat]))"
   ]
  },
  {
   "cell_type": "markdown",
   "metadata": {},
   "source": []
  },
  {
   "cell_type": "code",
   "execution_count": 34,
   "metadata": {},
   "outputs": [
    {
     "name": "stdout",
     "output_type": "stream",
     "text": [
      "Collecting xgboost\n",
      "  Downloading xgboost-1.3.3-py3-none-win_amd64.whl (95.2 MB)\n",
      "Requirement already satisfied: scipy in c:\\users\\mixnota\\anaconda3\\lib\\site-packages (from xgboost) (1.5.0)\n",
      "Requirement already satisfied: numpy in c:\\users\\mixnota\\anaconda3\\lib\\site-packages (from xgboost) (1.18.5)\n",
      "Installing collected packages: xgboost\n",
      "Successfully installed xgboost-1.3.3\n",
      "Note: you may need to restart the kernel to use updated packages.\n"
     ]
    }
   ],
   "source": []
  },
  {
   "cell_type": "code",
   "execution_count": null,
   "metadata": {},
   "outputs": [],
   "source": []
  }
 ],
 "metadata": {
  "kernelspec": {
   "display_name": "Python 3",
   "language": "python",
   "name": "python3"
  },
  "language_info": {
   "codemirror_mode": {
    "name": "ipython",
    "version": 3
   },
   "file_extension": ".py",
   "mimetype": "text/x-python",
   "name": "python",
   "nbconvert_exporter": "python",
   "pygments_lexer": "ipython3",
   "version": "3.8.3"
  }
 },
 "nbformat": 4,
 "nbformat_minor": 4
}
